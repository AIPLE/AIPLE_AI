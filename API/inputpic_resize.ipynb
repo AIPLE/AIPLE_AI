import numpy as np
import cv2 as cv

class InputPic:
    def setimg(self, inputimg):
        img = cv.imread(inputimg, 4) #파라미터 값 수정 안할시 흑백으로 나올 수 있음)
        resizeImg = cv.resize(img, (1000, 400)) (X축, Y축)
        print(img.shape)
        print(resizeImg.shape)
        cv.imwrite("output.PNG", resizeImg)
        pass

if __name__ == "__main__":
    pic = InputPic()
    img = "q.PNG"
    pic.setimg(img)
    pass
