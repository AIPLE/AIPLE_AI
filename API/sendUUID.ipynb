{
 "cells": [
  {
   "cell_type": "code",
   "execution_count": null,
   "metadata": {},
   "outputs": [],
   "source": [
    "#UUJIN_현재 UUID 가져오는 과정까지 완성. 추후 WEB에 UUID 넘기는 과정에서 이 함수 호출 해야 함.\n",
    "\n",
    "import json\n",
    "import urllib.request\n",
    "import inputpic\n",
    "\n",
    "class JsonCreation :\n",
    "    def encod(self, uuid) :\n",
    "        dic_uuid = {'uuid' : uuid}\n",
    "        json_uuid = json.dumps(dic_uuid)\n",
    "        print(json_uuid)\n",
    "\n",
    "\n",
    "if __name__ == \"__main__\":\n",
    "    uuid = inputpic.pushUUID()\n",
    "    url = \"http://aiple.gonetis.com/api_polling.jsp?uuid=\" + uuid\n",
    "    webpage = urllib.request.urlopen(url).read().decode('utf-8')\n"
   ]
  }
 ],
 "metadata": {
  "kernelspec": {
   "display_name": "Python 3",
   "language": "python",
   "name": "python3"
  }
 },
 "nbformat": 4,
 "nbformat_minor": 4
}
