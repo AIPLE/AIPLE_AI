{
 "cells": [
  {
   "cell_type": "code",
   "execution_count": 25,
   "metadata": {},
   "outputs": [],
   "source": [
    "import numpy as np\n",
    "import cv2 as cv\n",
    "\n",
    "class InputPic:\n",
    "    img = None\n",
    "    resizeImg = None\n",
    "    \n",
    "    def setimg(self, inputimg):\n",
    "        self.img = cv.imread(inputimg, 4)\n",
    "        self.resizeImg = cv.resize(self.img, (1000, 400))\n",
    "        \n",
    "    def getimg(self):\n",
    "        print(img.shape)\n",
    "        print(resizeImg.shape)\n",
    "        pass\n",
    "        \n",
    "    def saveimg(self, name):\n",
    "        cv.imwrite(name + \"_2.png\", self.resizeImg)\n",
    "        pass\n",
    "\n",
    "if __name__ == \"__main__\":\n",
    "    \n",
    "    for i in range (5) :\n",
    "        pic = InputPic()\n",
    "        pic.setimg(str(i) + \".png\")\n",
    "        pic.saveimg(str(i))\n",
    "    pass"
   ]
  },
  {
   "cell_type": "code",
   "execution_count": 9,
   "metadata": {},
   "outputs": [],
   "source": []
  },
  {
   "cell_type": "code",
   "execution_count": null,
   "metadata": {},
   "outputs": [],
   "source": []
  }
 ],
 "metadata": {
  "kernelspec": {
   "display_name": "Python 3",
   "language": "python",
   "name": "python3"
  },
  "language_info": {
   "codemirror_mode": {
    "name": "ipython",
    "version": 3
   },
   "file_extension": ".py",
   "mimetype": "text/x-python",
   "name": "python",
   "nbconvert_exporter": "python",
   "pygments_lexer": "ipython3",
   "version": "3.7.3"
  }
 },
 "nbformat": 4,
 "nbformat_minor": 4
}
