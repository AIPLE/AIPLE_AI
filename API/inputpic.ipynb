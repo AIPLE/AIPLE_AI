{
 "cells": [
  {
   "cell_type": "code",
   "execution_count": 93,
   "metadata": {},
   "outputs": [
    {
     "name": "stdout",
     "output_type": "stream",
     "text": [
      "변경 전 사이즈는  (648, 1152, 3)\n",
      "변경 전 사이즈는  (648, 1152, 3)\n",
      "변경 전 사이즈는  (648, 1152, 3)\n",
      "변경 후 사이즈는  (300, 1000, 3)\n",
      "변경 후 사이즈는  (300, 1000, 3)\n",
      "변경 후 사이즈는  (300, 1000, 3)\n"
     ]
    }
   ],
   "source": [
    "import numpy as np\n",
    "import cv2 as cv\n",
    "import random\n",
    "import os\n",
    "\n",
    "class InputPic:\n",
    "    before = None\n",
    "    after = None\n",
    "    dir_path = '/home/pi/AI/API/UUIDDirectory'\n",
    "    \n",
    "    def setimg(self, inputimg):\n",
    "        os.chdir('/home/pi/AI/API')\n",
    "        self.before = cv.imread(inputimg, 4)\n",
    "        self.after = cv.resize(self.before,(1000,300))\n",
    "        pass \n",
    "    \n",
    "    def getimg(self):\n",
    "        return self.after\n",
    "    \n",
    "    def saveimg(self, name, uuid):\n",
    "        os.chdir('/home/pi/AI/API/UUIDDirectory/'+ uuid +\"/after/\")\n",
    "        cv.imwrite(str(name)+ \"_resize.png\", self.after)\n",
    "        pass\n",
    "\n",
    "    def beforesize(self):\n",
    "        print('변경 전 사이즈는 ', self.before.shape)\n",
    "        pass\n",
    "    \n",
    "    def aftersize(self):\n",
    "        print('변경 후 사이즈는 ', self.after.shape)\n",
    "        pass\n",
    "    \n",
    "    def createFolder(directory):\n",
    "        os.chdir(dir_path)\n",
    "        os.makedirs(directory)\n",
    "        os.chdir(dir_path+'/'+directory)\n",
    "        os.makedirs('before')\n",
    "        os.makedirs('after')\n",
    "        pass\n",
    "    \n",
    "    def deleteFolder(path):\n",
    "        os.rmdir(dir_path +'/'+ path + '/before')\n",
    "\n",
    "if __name__ == \"__main__\":\n",
    "    pic=[]\n",
    "    uuid = 'abcdefghijk'\n",
    "    InputPic.createFolder(uuid)\n",
    "\n",
    "    for i in range(0,3):\n",
    "        pic.append(InputPic())\n",
    "        pic[i].setimg(str(i)+'.png')\n",
    "        \n",
    "    for i in range(0,3):\n",
    "        pic[i].saveimg(i,uuid)\n",
    "        \n",
    "    for i in range(0,3):\n",
    "        pic[i].beforesize()\n",
    "        \n",
    "    for i in range(0,3):\n",
    "        pic[i].aftersize()\n",
    "        \n",
    "    InputPic.deleteFolder(uuid)\n",
    "    pass"
   ]
  },
  {
   "cell_type": "code",
   "execution_count": null,
   "metadata": {},
   "outputs": [],
   "source": []
  },
  {
   "cell_type": "code",
   "execution_count": null,
   "metadata": {},
   "outputs": [],
   "source": []
  },
  {
   "cell_type": "code",
   "execution_count": null,
   "metadata": {},
   "outputs": [],
   "source": []
  },
  {
   "cell_type": "code",
   "execution_count": null,
   "metadata": {},
   "outputs": [],
   "source": []
  }
 ],
 "metadata": {
  "kernelspec": {
   "display_name": "Python 3",
   "language": "python",
   "name": "python3"
  },
  "language_info": {
   "codemirror_mode": {
    "name": "ipython",
    "version": 3
   },
   "file_extension": ".py",
   "mimetype": "text/x-python",
   "name": "python",
   "nbconvert_exporter": "python",
   "pygments_lexer": "ipython3",
   "version": "3.7.3"
  }
 },
 "nbformat": 4,
 "nbformat_minor": 2
}
