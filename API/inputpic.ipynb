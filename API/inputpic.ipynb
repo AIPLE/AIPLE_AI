{
 "cells": [
  {
   "cell_type": "code",
   "execution_count": 24,
   "metadata": {},
   "outputs": [
    {
     "name": "stdout",
     "output_type": "stream",
     "text": [
      "(130, 240)\n",
      "(300, 500)\n"
     ]
    }
   ],
   "source": [
    "import numpy as np\n",
    "import cv2 as cv\n",
    "\n",
    "IMG_X = 500\n",
    "IMG_Y = 300\n",
    "\n",
    "class InputPic:\n",
    "    def setimg(self, inputimg):\n",
    "        img = cv.imread(inputimg, 0)\n",
    "        resizeImg = cv.resize(img, dsize=(IMG_X, IMG_Y), interpolation=cv.INTER_AREA)\n",
    "        \n",
    "        cv.imshow(\"img\", img)\n",
    "        cv.imshow(\"resizeImg\", resizeImg)\n",
    "        cv.waitKey(0)\n",
    "        cv.destroyAllWindows()\n",
    "        \n",
    "        print(img.shape)\n",
    "        print(resizeImg.shape)\n",
    "\n",
    "        pass\n",
    "\n",
    "if __name__ == \"__main__\":\n",
    "    pic = InputPic()\n",
    "    img = \"softmax.png\"\n",
    "    pic.setimg(img)\n",
    "    pass"
   ]
  },
  {
   "cell_type": "code",
   "execution_count": null,
   "metadata": {},
   "outputs": [],
   "source": []
  },
  {
   "cell_type": "code",
   "execution_count": null,
   "metadata": {},
   "outputs": [],
   "source": []
  },
  {
   "cell_type": "code",
   "execution_count": null,
   "metadata": {},
   "outputs": [],
   "source": []
  },
  {
   "cell_type": "code",
   "execution_count": null,
   "metadata": {},
   "outputs": [],
   "source": []
  }
 ],
 "metadata": {
  "kernelspec": {
   "display_name": "Python 3",
   "language": "python",
   "name": "python3"
  },
  "language_info": {
   "codemirror_mode": {
    "name": "ipython",
    "version": 3
   },
   "file_extension": ".py",
   "mimetype": "text/x-python",
   "name": "python",
   "nbconvert_exporter": "python",
   "pygments_lexer": "ipython3",
   "version": "3.7.3"
  }
 },
 "nbformat": 4,
 "nbformat_minor": 2
}
